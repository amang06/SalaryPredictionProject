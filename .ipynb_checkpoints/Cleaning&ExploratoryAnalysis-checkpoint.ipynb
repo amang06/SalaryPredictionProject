{
 "cells": [
  {
   "cell_type": "code",
   "execution_count": 207,
   "id": "0db1df34",
   "metadata": {},
   "outputs": [],
   "source": [
    "import pandas as pd\n",
    "import matplotlib.pyplot as plt\n",
    "import seaborn as sns"
   ]
  },
  {
   "cell_type": "code",
   "execution_count": 208,
   "id": "12d529c8",
   "metadata": {},
   "outputs": [],
   "source": [
    "df = pd.read_csv('Salary_data_cleaned.csv')"
   ]
  },
  {
   "cell_type": "code",
   "execution_count": 209,
   "id": "488f96dc",
   "metadata": {},
   "outputs": [],
   "source": [
    "df.head()"
   ]
  },
  {
   "cell_type": "code",
   "execution_count": 210,
   "id": "dd9adce9",
   "metadata": {},
   "outputs": [],
   "source": [
    "df.columns"
   ]
  },
  {
   "cell_type": "code",
   "execution_count": 211,
   "id": "782e72c2",
   "metadata": {},
   "outputs": [],
   "source": [
    "def title_simplifier(title):\n",
    "    if 'data scientist' in title.lower():\n",
    "        return 'data scientist'\n",
    "    elif 'scientist' in title.lower():\n",
    "        return 'data scientist'\n",
    "    elif 'data engineer' in title.lower():\n",
    "        return 'data engineer'\n",
    "    elif 'analyst' in title.lower():\n",
    "        return 'analyst'\n",
    "    elif 'machine learning' in title.lower():\n",
    "        return 'mle'\n",
    "    elif 'manager' in title.lower():\n",
    "        return 'manager'\n",
    "    elif 'director' in title.lower():\n",
    "        return 'director'\n",
    "    elif 'AI' in title:\n",
    "        return 'artificial intelligence'\n",
    "    elif 'artificial intelligence' in title.lower():\n",
    "        return 'artificial intelligence'\n",
    "    else:\n",
    "        return 'na'\n",
    "    \n",
    "def seniority(title):\n",
    "    if 'sr' in title.lower() or 'senior' in title.lower() or 'sr' in title.lower() or 'lead' in title.lower() or 'principal' in title.lower() or 'head' in title.lower():\n",
    "            return 'senior'\n",
    "    elif 'jr' in title.lower() or 'junior' in title.lower() or 'associate' in title.lower():\n",
    "        return 'jr'\n",
    "    elif 'co-op' in title.lower():\n",
    "        return 'co-op'\n",
    "    else:\n",
    "        return 'na'"
   ]
  },
  {
   "cell_type": "code",
   "execution_count": 212,
   "id": "03754537",
   "metadata": {},
   "outputs": [],
   "source": [
    "df['job_simp'] = df['Job Name'].apply(title_simplifier)"
   ]
  },
  {
   "cell_type": "code",
   "execution_count": 213,
   "id": "f228d7d8",
   "metadata": {},
   "outputs": [],
   "source": [
    "df.job_simp.value_counts()"
   ]
  },
  {
   "cell_type": "code",
   "execution_count": 214,
   "id": "a27cdda5",
   "metadata": {},
   "outputs": [],
   "source": [
    "df['seniority'] = df['Job Name'].apply(seniority)\n",
    "df.seniority.value_counts()"
   ]
  },
  {
   "cell_type": "code",
   "execution_count": 215,
   "id": "a57e1674",
   "metadata": {},
   "outputs": [],
   "source": [
    "# Fix state Los Angeles \n",
    "df['job_state']= df.job_state.apply(lambda x: x.strip() if x.strip().lower() != 'los angeles' else 'CA')\n",
    "df['job_state']= df.job_state.apply(lambda x: x.strip() if x.strip().lower() != 'massachusetts' else 'MA')\n",
    "df.job_state.value_counts()"
   ]
  },
  {
   "cell_type": "code",
   "execution_count": 216,
   "id": "c3127886",
   "metadata": {},
   "outputs": [],
   "source": [
    "#  Job description length \n",
    "df['desc_len'] = df['Description'].apply(lambda x: len(x))\n",
    "df['desc_len']"
   ]
  },
  {
   "cell_type": "code",
   "execution_count": 217,
   "id": "bd869bee",
   "metadata": {},
   "outputs": [],
   "source": [
    "df['min_salary'] = df.apply(lambda x:x.min_salary*2 if x.hourly==1 else x.min_salary, axis=1)\n",
    "df['max_salary'] = df.apply(lambda x:x.max_salary*2 if x.hourly==1 else x.max_salary, axis=1)"
   ]
  },
  {
   "cell_type": "code",
   "execution_count": 218,
   "id": "65faaa6c",
   "metadata": {},
   "outputs": [],
   "source": [
    "df[df.hourly ==1][['hourly','min_salary','max_salary']]"
   ]
  },
  {
   "cell_type": "code",
   "execution_count": 219,
   "id": "d4707ff5",
   "metadata": {},
   "outputs": [],
   "source": [
    "df['avg_salary'] = df.apply(lambda row:(row['min_salary']+row['max_salary'])/2 if row['max_salary']>0 else row['min_salary'], axis=1)"
   ]
  },
  {
   "cell_type": "code",
   "execution_count": 220,
   "id": "c3b68798",
   "metadata": {},
   "outputs": [],
   "source": [
    "df.describe()"
   ]
  },
  {
   "cell_type": "code",
   "execution_count": 221,
   "id": "36e03f74",
   "metadata": {},
   "outputs": [],
   "source": [
    "df.columns"
   ]
  },
  {
   "cell_type": "code",
   "execution_count": 222,
   "id": "b05cf966",
   "metadata": {},
   "outputs": [],
   "source": [
    "df.Rating.hist()"
   ]
  },
  {
   "cell_type": "code",
   "execution_count": 223,
   "id": "79a46603",
   "metadata": {},
   "outputs": [],
   "source": [
    "df.avg_salary.hist()"
   ]
  },
  {
   "cell_type": "code",
   "execution_count": 224,
   "id": "3e7e83f4",
   "metadata": {},
   "outputs": [],
   "source": [
    "df.desc_len.hist()"
   ]
  },
  {
   "cell_type": "code",
   "execution_count": 225,
   "id": "9b491fe4",
   "metadata": {},
   "outputs": [],
   "source": [
    "df.boxplot(column=['age','avg_salary','Rating'])"
   ]
  },
  {
   "cell_type": "code",
   "execution_count": 226,
   "id": "8cbf74e4",
   "metadata": {},
   "outputs": [],
   "source": [
    "df.boxplot(column='Rating')"
   ]
  },
  {
   "cell_type": "code",
   "execution_count": 227,
   "id": "88bc65db",
   "metadata": {},
   "outputs": [],
   "source": [
    "corr = df[['age','avg_salary','Rating','desc_len']].corr()"
   ]
  },
  {
   "cell_type": "code",
   "execution_count": 228,
   "id": "4ae62c1a",
   "metadata": {},
   "outputs": [],
   "source": [
    "cmap = sns.diverging_palette(220, 10, as_cmap=True)\n",
    "sns.heatmap(corr, cmap=cmap, vmax=.3, center=0, square=True, linewidths=.5, cbar_kws={\"shrink\": .5})"
   ]
  },
  {
   "cell_type": "code",
   "execution_count": 229,
   "id": "f0900ff0",
   "metadata": {},
   "outputs": [],
   "source": [
    "df.columns"
   ]
  },
  {
   "cell_type": "code",
   "execution_count": 230,
   "id": "16446ecd",
   "metadata": {},
   "outputs": [],
   "source": [
    "df.head()"
   ]
  },
  {
   "cell_type": "code",
   "execution_count": 231,
   "id": "6647a81e",
   "metadata": {},
   "outputs": [],
   "source": [
    "df_cat = df.filter(['Location', 'Size', 'Type of ownership', 'Industry',\n",
    "       'Sector', 'Revenue','Company','job_state','python_yn', 'R_yn', 'spark_yn', 'aws_yn', 'excel_yn', 'job_simp',\n",
    "       'seniority'], axis=1)"
   ]
  },
  {
   "cell_type": "code",
   "execution_count": 232,
   "id": "9a4f1c40",
   "metadata": {},
   "outputs": [],
   "source": [
    "df_cat.head()"
   ]
  },
  {
   "cell_type": "code",
   "execution_count": 233,
   "id": "adc4951e",
   "metadata": {},
   "outputs": [],
   "source": [
    "for i in df_cat.columns:\n",
    "    cat_num = df_cat[i].value_counts()\n",
    "    print('Graph for %s: total = %d' % (i,len(cat_num)))\n",
    "    my_plot=sns.barplot(x=cat_num.index,y=cat_num)\n",
    "    my_plot.set_xticklabels(my_plot.get_xticklabels(), rotation=90)\n",
    "    plt.show()"
   ]
  },
  {
   "cell_type": "code",
   "execution_count": 234,
   "id": "5a33fea0",
   "metadata": {},
   "outputs": [],
   "source": [
    "for i in df_cat[['Location','job_state','Company']]:\n",
    "    cat_num = df_cat[i].value_counts()[20:]\n",
    "    print('Graph for %s: total = %d' % (i,len(cat_num)))\n",
    "    my_plot=sns.barplot(x=cat_num.index,y=cat_num)\n",
    "    my_plot.set_xticklabels(my_plot.get_xticklabels(), rotation=90)\n",
    "    plt.show()"
   ]
  },
  {
   "cell_type": "code",
   "execution_count": 235,
   "id": "6f07cfb2",
   "metadata": {},
   "outputs": [],
   "source": [
    "df.columns"
   ]
  },
  {
   "cell_type": "code",
   "execution_count": 236,
   "id": "7a7ff8e7",
   "metadata": {},
   "outputs": [],
   "source": [
    "pd.pivot_table(df, index='job_simp', values='avg_salary')"
   ]
  },
  {
   "cell_type": "code",
   "execution_count": 237,
   "id": "c09c3d9d",
   "metadata": {},
   "outputs": [],
   "source": [
    "pd.pivot_table(df, index=['job_simp','seniority'], values='avg_salary')"
   ]
  },
  {
   "cell_type": "code",
   "execution_count": 238,
   "id": "ca39dcd9",
   "metadata": {},
   "outputs": [],
   "source": [
    "pd.pivot_table(df, index='job_state', values='avg_salary').sort_values('avg_salary',ascending = False)"
   ]
  },
  {
   "cell_type": "code",
   "execution_count": 239,
   "id": "50084b82",
   "metadata": {},
   "outputs": [],
   "source": [
    "pd.options.display.max_rows\n",
    "pd.set_option('display.max_rows',None)"
   ]
  },
  {
   "cell_type": "code",
   "execution_count": 240,
   "id": "d9d59f08",
   "metadata": {},
   "outputs": [],
   "source": [
    "pd.pivot_table(df, index=['job_state','job_simp'], values='avg_salary').sort_values('job_state',ascending = False)"
   ]
  },
  {
   "cell_type": "code",
   "execution_count": 241,
   "id": "f7e6a9e3",
   "metadata": {},
   "outputs": [],
   "source": [
    "pd.pivot_table(df, index=['job_state','job_simp'], values='avg_salary', aggfunc='count').sort_values('job_state', ascending = False)"
   ]
  },
  {
   "cell_type": "code",
   "execution_count": 242,
   "id": "807b1233",
   "metadata": {},
   "outputs": [],
   "source": [
    "df.columns"
   ]
  },
  {
   "cell_type": "code",
   "execution_count": 243,
   "id": "0fbfc7c2",
   "metadata": {},
   "outputs": [],
   "source": [
    "df_pivots = df[['Rating', 'Size', 'Type of ownership', 'Industry',\n",
    "       'Sector', 'Revenue', 'hourly', 'employer provided',\n",
    "       'python_yn', 'R_yn', 'spark_yn', 'aws_yn', 'excel_yn','avg_salary']]"
   ]
  },
  {
   "cell_type": "code",
   "execution_count": 244,
   "id": "dcb8832d",
   "metadata": {},
   "outputs": [],
   "source": [
    "for i in df_pivots.columns:\n",
    "    print(i)\n",
    "    print(pd.pivot_table(df_pivots, index=i, values='avg_salary').sort_values('avg_salary', ascending=False))"
   ]
  },
  {
   "cell_type": "code",
   "execution_count": null,
   "id": "45e0eb07",
   "metadata": {},
   "outputs": [],
   "source": []
  },
  {
   "cell_type": "code",
   "execution_count": null,
   "id": "a10bc2ae",
   "metadata": {},
   "outputs": [],
   "source": []
  }
 ],
 "metadata": {
  "kernelspec": {
   "display_name": "Python 3 (ipykernel)",
   "language": "python",
   "name": "python3"
  },
  "language_info": {
   "codemirror_mode": {
    "name": "ipython",
    "version": 3
   },
   "file_extension": ".py",
   "mimetype": "text/x-python",
   "name": "python",
   "nbconvert_exporter": "python",
   "pygments_lexer": "ipython3",
   "version": "3.11.4"
  }
 },
 "nbformat": 4,
 "nbformat_minor": 5
}
